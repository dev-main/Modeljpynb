{
 "cells": [
  {
   "cell_type": "code",
   "execution_count": null,
   "metadata": {},
   "outputs": [],
   "source": [
    "#display(df.A)\n",
    "#display(df.iloc[:,1])#row1\n",
    "#display(df.iloc[0:,1])#row1 all\n",
    "#display(df.iloc[1:,1])#row1 from 1\n",
    "#display(df.iloc[2:4,1])#row1 2-3\n",
    "#display(df.iloc[0,1]) erste zahl\n",
    "#display( df.iloc[0,:])\n",
    "#display( df.iloc[1,:])\n",
    "#display( df.iloc[2,:])\n",
    "\n"
   ]
  }
 ],
 "metadata": {
  "kernelspec": {
   "display_name": "Python 2",
   "language": "python",
   "name": "python2"
  },
  "language_info": {
   "codemirror_mode": {
    "name": "ipython",
    "version": 2
   },
   "file_extension": ".py",
   "mimetype": "text/x-python",
   "name": "python",
   "nbconvert_exporter": "python",
   "pygments_lexer": "ipython2",
   "version": "2.7.16"
  }
 },
 "nbformat": 4,
 "nbformat_minor": 4
}
