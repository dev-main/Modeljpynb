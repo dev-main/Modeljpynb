{
 "cells": [
  {
   "cell_type": "code",
   "execution_count": null,
   "metadata": {},
   "outputs": [],
   "source": [
    "#display(df.A)\n",
    "#display(df.iloc[:,1])#row1\n",
    "#display(df.iloc[0:,1])#row1 all\n",
    "#display(df.iloc[1:,1])#row1 from 1\n",
    "#display(df.iloc[2:4,1])#row1 2-3\n",
    "#display(df.iloc[0,1]) erste zahl\n",
    "#display( df.iloc[0,:])\n",
    "#display( df.iloc[1,:])\n",
    "#display( df.iloc[2,:])\n",
    "import pandas as pd\n",
    "import numpy as np\n",
    "import matplotlib.pyplot as plt\n",
    "\n",
    "def S(t):\n",
    "    return t+1\n",
    "dates = pd.date_range('20160303',periods=365)\n",
    "ints=pd.interval_range(0,365)\n",
    "ints=l = [i for i in range(365)]\n",
    "\n",
    "seriesList = {'dates' : dates, 'ints':ints}\n",
    "\n",
    "df=pd.DataFrame(seriesList)\n",
    "df.insert(2, \"new\", df['ints']+df['ints'], True)\n",
    "df.insert(3, \"S\", S(df['ints']), True)"
   ]
  }
 ],
 "metadata": {
  "kernelspec": {
   "display_name": "Python 3",
   "language": "python",
   "name": "python3"
  },
  "language_info": {
   "codemirror_mode": {
    "name": "ipython",
    "version": 3
   },
   "file_extension": ".py",
   "mimetype": "text/x-python",
   "name": "python",
   "nbconvert_exporter": "python",
   "pygments_lexer": "ipython3",
   "version": "3.6.6+"
  }
 },
 "nbformat": 4,
 "nbformat_minor": 4
}
